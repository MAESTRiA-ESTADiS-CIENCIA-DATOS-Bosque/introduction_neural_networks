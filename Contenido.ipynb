{
  "cells": [
    {
      "cell_type": "markdown",
      "metadata": {
        "id": "Stb3HDJcPfmX"
      },
      "source": [
        "# **BIENVENIDOS AL CURSO DE:  Introducción a Redes Neuronales**\n",
        "\n",
        "![image of a cat sitting on a chair](https://cdn.prod.website-files.com/656a6f5ca4824808211181c5/6577920fe621b49c290409da_Recent-Developments-in-Neural-Networks.png)"
      ]
    },
    {
      "cell_type": "markdown",
      "metadata": {
        "id": "XYpxdBcOPVZT"
      },
      "source": [
        "## Resumen\n",
        "Mi nombre es **Hector Javier Hortua** \n",
        "\n",
        "Email: hhortuao@unbosque.edu.co\n",
        "\n",
        "GitHub: *JavierOrjuela*\n",
        "\n",
        "\n",
        "## *Justificación:*\n",
        "El curso de Introducción a Redes Neuronales es esencial para estudiantes de Matemáticas y Ciencia de Datos,\n",
        "proporcionándoles habilidades avanzadas en el estudio y aplicación de redes neuronales, algoritmos de optimización y\n",
        "modelos generativo. Este conocimiento fortalece su comprensión en áreas fundamentales como álgebra, cálculo y\n",
        "estadística, permitiéndoles desarrollar modelos sofisticados con herramientas como TensorFlow y PyTorch. Estas\n",
        "habilidades los preparan para enfrentar desafíos significativos en el ámbito de la ciencia de datos, fomentando su desarrollo\n",
        "profesional y su capacidad para innovar en este campo en constante evolución\n",
        "\n",
        "\n",
        "### *REQUISITOS ACADÉMICOS*:\n",
        "Personas con conocimientos en programación Python y conocimientos básicos en\n",
        "álgebra lineal, que quieran incluir TensorFlow en su caja de herramientas para la\n",
        "aplicación de modelos supervisados de Deep Learning. Además, el estudiante debe tener\n",
        "ya sea una cuenta en Google para acceder a processos de GPU a través de Colab\n",
        "notebook, o un computador con los requerimientos básicos para la instalación de\n",
        "TensorFlow con o sin GPU (https://www.tensorflow.org/install).\n",
        "\n",
        "### BIBLIOGRAFÍA\n",
        " \n",
        "\n",
        "*   https://www.tensorflow.org/\n",
        "*  Deep Learning with TensorFlow 2 and Keras: Regression, ConvNets, GANs, RNNs, NLP,\n",
        "and more with TensorFlow 2 and the Keras API, Antonio Gulli, Amita Kapoor,Sujit Pal 2nd\n",
        "Edition,Packt Publishing.\n",
        "* Hands-On Machine Learning with Scikit-Learn, Keras, and TensorFlow: Concepts, Tools and Techniques to Build Intelligent Systems, Aurelien Geron,O&#39;Reilly Media; 2nd edición.\n",
        "* Advanced Deep Learning with TensorFlow 2 and Keras,Rowel Atienza, Packt Publishing.\n",
        "*Pattern Recognition and Machine Learning, C.M.Bishop,Springer-Verlag New York, 2006.\n",
        "\n",
        "\n",
        "\n",
        "\n",
        "### Contenido\n",
        "*Primer Módulo: Introducción a Deep Learning*\n",
        "- Historia y evolución del Deep Learning- Modelo biológico de una neurona\n",
        "- Neurona de McCulloch-Pitts,\n",
        "- Perceptrón de Rosenblatt\n",
        "- Redes de Shallow(ADALINE)\n",
        "- Redes Neuronales Artificiales(generalidades, estructura de una red neuronal, Funciones de activación)\n",
        "- Redes Neuronales Multicapa\n",
        "- Algoritmo Backpropagation(funciones de perdida, evaluación de gradiente , diferenciación automática)\n",
        "\n",
        "*Segundo Módulo: Casos Prácticos*\n",
        "- Introducción a CNNs. Operación convolución(Estructura y componentes (convolución, pooling, capas de activación)).\n",
        "- Entrenamiento de CNNs(Batch normalization, Dropout)\n",
        "- Arquitecturas Populares (AlexNet, VGGNet, ResNet)\n",
        "- Implementación de arquitecturas populares - Transfer Learning- Fine-Tuning\n",
        "- Aplicaciones de CNNs\n",
        "\n",
        "*Tercer Módulo: Redes Recurrentes e Introducción a los modelos generativos*\n",
        "- Introducción a las Redes Neuronales Recurrentes (RNNs)( Estructura y componentes, Datos secuenciales)\n",
        "- Problemas de desvanecimiento y explosión de gradientes\n",
        "- Redes de memoria a largo plazo (LSTM) y unidades recurrentes con puerta (GRU)\n",
        "- Aplicaciones de RNNs en procesamiento de secuencias y series temporales.\n",
        "- Introducción a los Modelos Generativos -Autoenconders (AE)\n",
        "\n",
        "\n",
        "\n",
        "### METODOLOGÍA:\n",
        "* Cada una de las clases tendrán una parte teórica donde se introduce los conceptos\n",
        "básicos y una parte práctica para poder aplicar los conocimientos adquiridos y conocer las implementaciones del software. TensorFlow, Torch y JaX \n",
        "\n",
        "EVALUACIÓN:\n",
        "\n",
        "* Ejercicios  80% (ambos modulos)\n",
        "* Trabajo Final 20%\n",
        "\n"
      ]
    },
    {
      "cell_type": "markdown",
      "metadata": {
        "id": "En6VGmhNWP7W"
      },
      "source": [
        "## Herramientas:\n",
        "\n",
        "* Cuenta de gmail\n",
        "* Github (desktop)\n",
        "* Docker\n",
        "* Laptop con TensorFlow instalado (CPU es ok. *Consejo: trabajar en un entorno conda*)\n"
      ]
    },
    {
      "cell_type": "markdown",
      "metadata": {
        "id": "jRNgIF1o9q_1"
      },
      "source": [
        "##Sondeo:\n",
        "\n",
        "* Tienen conocimientos de Machine Learning?\n",
        "* Tienen conocimientos de Deep Learning?\n",
        "* Que OS usan frecuentemente?\n",
        "* Cual es su nivel de programacion en Python?\n",
        "* Han usado GitHub?\n",
        "* Han usado Google-Colab?\n",
        "* Como llegaron a saber de TensorFlow?\n",
        "* Planean enfocarse al sector industrial o para desarrollo de investigacion?"
      ]
    },
    {
      "cell_type": "code",
      "execution_count": null,
      "metadata": {
        "id": "WnWEOVS3-y8A"
      },
      "outputs": [],
      "source": []
    }
  ],
  "metadata": {
    "colab": {
      "collapsed_sections": [],
      "name": "Contenido_curso_Helloworld_con_tf2.ipynb",
      "provenance": []
    },
    "kernelspec": {
      "display_name": "Python 3",
      "name": "python3"
    },
    "language_info": {
      "name": "python"
    }
  },
  "nbformat": 4,
  "nbformat_minor": 0
}
